{
 "cells": [
  {
   "metadata": {},
   "cell_type": "markdown",
   "source": [
    "This is my first run of logistic regression using default params.\n",
    "Solver = lbfgs (default)\n",
    "Maximum Iterations = 100 (default)\n",
    "Note: StandardScaler also used.\n"
   ],
   "id": "31032c3e175c9fd3"
  },
  {
   "metadata": {
    "collapsed": true,
    "ExecuteTime": {
     "end_time": "2025-10-13T09:24:35.334330300Z",
     "start_time": "2025-10-13T09:24:35.309996200Z"
    }
   },
   "cell_type": "code",
   "source": [
    "from sklearn.preprocessing import StandardScaler\n",
    "import pandas as pd\n",
    "from sklearn.linear_model import LogisticRegression\n",
    "from sklearn.metrics import accuracy_score, confusion_matrix, recall_score, precision_score\n",
    "\n",
    "df = pd.read_csv(\"datasets/wildfires_training.csv\")\n",
    "test_df = pd.read_csv(\"datasets/wildfires_test.csv\")\n",
    "data = df.to_numpy()\n",
    "test_data = test_df.to_numpy()\n",
    "scaler = StandardScaler()\n",
    "\n",
    "X_train = scaler.fit_transform(data[:, 1:])\n",
    "y_train = data[:, 0]\n",
    "\n",
    "X_test = scaler.transform(test_data[:, 1:])\n",
    "Y_test = test_data[:, 0]\n",
    "\n",
    "model = LogisticRegression()\n",
    "model.fit(X_train, y_train)\n",
    "\n",
    "predicted_Y = model.predict(X_test)\n",
    "\n",
    "accuracy = accuracy_score(Y_test, predicted_Y)\n",
    "conf_matrix = confusion_matrix(Y_test, predicted_Y)\n",
    "recall = recall_score(Y_test, predicted_Y, pos_label='yes')\n",
    "precision = precision_score(Y_test, predicted_Y, pos_label='yes')"
   ],
   "id": "72ac4d8393c5b370",
   "outputs": [],
   "execution_count": 11
  },
  {
   "metadata": {},
   "cell_type": "code",
   "outputs": [],
   "execution_count": null,
   "source": "",
   "id": "be440148d1a64ecf"
  }
 ],
 "metadata": {
  "kernelspec": {
   "display_name": "Python",
   "language": "python",
   "name": "python"
  },
  "language_info": {
   "codemirror_mode": {
    "name": "ipython",
    "version": 2
   },
   "file_extension": ".py",
   "mimetype": "text/x-python",
   "name": "python",
   "nbconvert_exporter": "python",
   "pygments_lexer": "ipython2",
   "version": "2.7.6"
  }
 },
 "nbformat": 4,
 "nbformat_minor": 5
}
